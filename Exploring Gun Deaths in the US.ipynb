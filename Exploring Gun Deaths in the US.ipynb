{
 "cells": [
  {
   "cell_type": "code",
   "execution_count": 2,
   "metadata": {
    "collapsed": false
   },
   "outputs": [
    {
     "name": "stdout",
     "output_type": "stream",
     "text": [
      "[['', 'year', 'month', 'intent', 'police', 'sex', 'age', 'race', 'hispanic', 'place', 'education'], ['1', '2012', '01', 'Suicide', '0', 'M', '34', 'Asian/Pacific Islander', '100', 'Home', '4'], ['2', '2012', '01', 'Suicide', '0', 'F', '21', 'White', '100', 'Street', '3'], ['3', '2012', '01', 'Suicide', '0', 'M', '60', 'White', '100', 'Other specified', '4'], ['4', '2012', '02', 'Suicide', '0', 'M', '64', 'White', '100', 'Home', '4']]\n"
     ]
    }
   ],
   "source": [
    "# 1) import data\n",
    "import csv\n",
    "r = open(\"guns.csv\", \"r\")\n",
    "data = list(csv.reader(r))\n",
    "print(data[:5])\n"
   ]
  },
  {
   "cell_type": "code",
   "execution_count": 3,
   "metadata": {
    "collapsed": false
   },
   "outputs": [
    {
     "name": "stdout",
     "output_type": "stream",
     "text": [
      "['', 'year', 'month', 'intent', 'police', 'sex', 'age', 'race', 'hispanic', 'place', 'education']\n",
      "[['1', '2012', '01', 'Suicide', '0', 'M', '34', 'Asian/Pacific Islander', '100', 'Home', '4'], ['2', '2012', '01', 'Suicide', '0', 'F', '21', 'White', '100', 'Street', '3'], ['3', '2012', '01', 'Suicide', '0', 'M', '60', 'White', '100', 'Other specified', '4'], ['4', '2012', '02', 'Suicide', '0', 'M', '64', 'White', '100', 'Home', '4'], ['5', '2012', '02', 'Suicide', '0', 'M', '31', 'White', '100', 'Other specified', '2']]\n"
     ]
    }
   ],
   "source": [
    "# 2) removing header\n",
    "headers = data[0]\n",
    "data = data[1:len(data)]\n",
    "print(headers)\n",
    "print(data[:5])"
   ]
  },
  {
   "cell_type": "code",
   "execution_count": 7,
   "metadata": {
    "collapsed": false
   },
   "outputs": [
    {
     "name": "stdout",
     "output_type": "stream",
     "text": [
      "['2012', '2012', '2012', '2012', '2012']\n",
      "{'2013': 33636, '2014': 33599, '2012': 33563}\n"
     ]
    }
   ],
   "source": [
    "# 3) List comprehension to extract year from data\n",
    "years = [row[1] for row in data]\n",
    "print(years[0:5])\n",
    "year_counts = {} # create dictionary\n",
    "\n",
    "# loop through data\n",
    "for row in years:\n",
    "    # if statement to find how many per year\n",
    "    if row in year_counts:\n",
    "        year_counts[row] += 1\n",
    "    else:\n",
    "        year_counts[row] = 1\n",
    "print(year_counts) # how many counts per year\n"
   ]
  },
  {
   "cell_type": "code",
   "execution_count": null,
   "metadata": {
    "collapsed": false
   },
   "outputs": [],
   "source": []
  },
  {
   "cell_type": "code",
   "execution_count": 9,
   "metadata": {
    "collapsed": false
   },
   "outputs": [
    {
     "name": "stdout",
     "output_type": "stream",
     "text": [
      "[datetime.datetime(2012, 1, 1, 0, 0), datetime.datetime(2012, 1, 1, 0, 0), datetime.datetime(2012, 1, 1, 0, 0), datetime.datetime(2012, 2, 1, 0, 0), datetime.datetime(2012, 2, 1, 0, 0)]\n",
      "{datetime.datetime(2014, 6, 1, 0, 0): 2931, datetime.datetime(2014, 12, 1, 0, 0): 2857, datetime.datetime(2012, 8, 1, 0, 0): 2954, datetime.datetime(2014, 11, 1, 0, 0): 2756, datetime.datetime(2013, 9, 1, 0, 0): 2742, datetime.datetime(2012, 10, 1, 0, 0): 2733, datetime.datetime(2012, 1, 1, 0, 0): 2758, datetime.datetime(2013, 3, 1, 0, 0): 2862, datetime.datetime(2014, 1, 1, 0, 0): 2651, datetime.datetime(2012, 2, 1, 0, 0): 2357, datetime.datetime(2014, 5, 1, 0, 0): 2864, datetime.datetime(2013, 10, 1, 0, 0): 2808, datetime.datetime(2013, 6, 1, 0, 0): 2920, datetime.datetime(2013, 8, 1, 0, 0): 2859, datetime.datetime(2014, 3, 1, 0, 0): 2684, datetime.datetime(2012, 12, 1, 0, 0): 2791, datetime.datetime(2014, 2, 1, 0, 0): 2361, datetime.datetime(2013, 4, 1, 0, 0): 2798, datetime.datetime(2013, 12, 1, 0, 0): 2765, datetime.datetime(2012, 9, 1, 0, 0): 2852, datetime.datetime(2012, 5, 1, 0, 0): 2999, datetime.datetime(2013, 11, 1, 0, 0): 2758, datetime.datetime(2014, 9, 1, 0, 0): 2914, datetime.datetime(2012, 7, 1, 0, 0): 3026, datetime.datetime(2013, 5, 1, 0, 0): 2806, datetime.datetime(2012, 11, 1, 0, 0): 2729, datetime.datetime(2014, 8, 1, 0, 0): 2970, datetime.datetime(2012, 4, 1, 0, 0): 2795, datetime.datetime(2013, 2, 1, 0, 0): 2375, datetime.datetime(2013, 1, 1, 0, 0): 2864, datetime.datetime(2012, 6, 1, 0, 0): 2826, datetime.datetime(2014, 4, 1, 0, 0): 2862, datetime.datetime(2012, 3, 1, 0, 0): 2743, datetime.datetime(2014, 10, 1, 0, 0): 2865, datetime.datetime(2013, 7, 1, 0, 0): 3079, datetime.datetime(2014, 7, 1, 0, 0): 2884}\n"
     ]
    }
   ],
   "source": [
    "# 4) create datetime object\n",
    "import datetime\n",
    "# creating a datetime.datetime object for year and month\n",
    "# create list for dates\n",
    "\n",
    "## list comprehension try attempt:\n",
    "# dates = [datetime.datetime(year, month, day) for row in data]\n",
    "# loop through data\n",
    "dates = []\n",
    "for row in data:\n",
    "    year = int(row[1])\n",
    "    month = int(row[2])\n",
    "    day = 1\n",
    "    \n",
    "    # assign values through datetime.datetime()\n",
    "    time = datetime.datetime(year, month, day)\n",
    "    dates.append(time)\n",
    "\n",
    "print(dates[0:5])\n",
    "    \n",
    "# how many times does each unique date occur in dates\n",
    "date_counts = {}\n",
    "\n",
    "for date in dates:\n",
    "    if date in date_counts:\n",
    "        date_counts[date] += 1\n",
    "    else:\n",
    "        date_counts[date] = 1    \n",
    "        \n",
    "print(date_counts)"
   ]
  },
  {
   "cell_type": "code",
   "execution_count": 30,
   "metadata": {
    "collapsed": false
   },
   "outputs": [
    {
     "name": "stdout",
     "output_type": "stream",
     "text": [
      "{'Hispanic': 9022, 'White': 66237, 'Black': 23296, 'Asian/Pacific Islander': 1326, 'Native American/Native Alaskan': 917}\n",
      "{'M': 86349, 'F': 14449}\n"
     ]
    }
   ],
   "source": [
    "race_counts = {}\n",
    "sex_counts = {}\n",
    "\n",
    "for row in data:\n",
    "    race = row[7]\n",
    "    sex = row[5]\n",
    "    \n",
    "    if race in race_counts:\n",
    "        race_counts[race] += 1\n",
    "    else:\n",
    "        race_counts[race] = 1\n",
    "    \n",
    "    if sex in sex_counts:\n",
    "        sex_counts[sex] += 1\n",
    "    else:\n",
    "        sex_counts[sex] = 1\n",
    "\n",
    "print(race_counts)\n",
    "print(sex_counts)"
   ]
  },
  {
   "cell_type": "markdown",
   "metadata": {},
   "source": [
    "From the analysis, I've concluded that there is not significanct variance of number of deaths when parsed by year and month. However when counting how many deaths by race and by gender, we see disparities. Immediately, the analysis shows that black people are the most common victem of gun violence, followed by Hispanics, Whites, Asian/Pacific Isalnders and then Native American/Native Alaskan. Parsing by gender reveals that men are more common victoms of gun violence.\n",
    "\n",
    "The results bring up new questions:\n",
    "- Though blacks are the most common victom, what is the rate of daeth for each population? \n",
    "- Same rate of population question for gender. This disparity for gender is very significant. Begs the question why are men more disproportionately victims. Is this because of pproximity, crime, police brutality, etc?"
   ]
  },
  {
   "cell_type": "code",
   "execution_count": 11,
   "metadata": {
    "collapsed": false
   },
   "outputs": [
    {
     "name": "stdout",
     "output_type": "stream",
     "text": [
      "[['Id', 'Year', 'Id', 'Sex', 'Id', 'Hispanic Origin', 'Id', 'Id2', 'Geography', 'Total', 'Race Alone - White', 'Race Alone - Hispanic', 'Race Alone - Black or African American', 'Race Alone - American Indian and Alaska Native', 'Race Alone - Asian', 'Race Alone - Native Hawaiian and Other Pacific Islander', 'Two or More Races'], ['cen42010', 'April 1, 2010 Census', 'totsex', 'Both Sexes', 'tothisp', 'Total', '0100000US', '', 'United States', '308745538', '197318956', '44618105', '40250635', '3739506', '15159516', '674625', '6984195']]\n"
     ]
    }
   ],
   "source": [
    "## 6: finding rate of gun deaths per 10000 people of each race\n",
    "r = open(\"census.csv\", \"r\")\n",
    "census = list(csv.reader(r))\n",
    "print(census)\n",
    "\n",
    "\n"
   ]
  },
  {
   "cell_type": "code",
   "execution_count": 12,
   "metadata": {
    "collapsed": false
   },
   "outputs": [
    {
     "name": "stdout",
     "output_type": "stream",
     "text": [
      "['Race Alone - Asian', 'Race Alone - Native Hawaiian and Other Pacific Islander']\n",
      "['15159516', '674625']\n",
      "18899022\n",
      "Race Alone - White\n",
      "197318956\n",
      "Race Alone - Hispanic\n",
      "Race Alone - Black or African American\n",
      "40250635\n",
      "Race Alone - Native Hawaiian and Other Pacific Islander\n",
      "674625\n"
     ]
    }
   ],
   "source": [
    "print(census[0][14:16])\n",
    "\n",
    "# amount asians\n",
    "print(census[1][14:16])\n",
    "asian = [3739506,15159516]\n",
    "asian = sum(asian)\n",
    "print(asian)\n",
    "\n",
    "# amount white\n",
    "print(census[0][10])\n",
    "print(census[1][10])\n",
    "\n",
    "\n",
    "# amount hipanice\n",
    "print(census[0][11])\n",
    "census[1][11]\n",
    "\n",
    "# amount black\n",
    "print(census[0][12])\n",
    "print(census[1][12])\n",
    "\n",
    "# native hawaiin alascan\n",
    "print(census[0][15])\n",
    "print(census[1][15])\n"
   ]
  },
  {
   "cell_type": "code",
   "execution_count": 46,
   "metadata": {
    "collapsed": false
   },
   "outputs": [
    {
     "data": {
      "text/plain": [
       "{'Asian/Pacific Islander': 18899022,\n",
       " 'Black': 40250635,\n",
       " 'Hispanic': 44618105,\n",
       " 'Native American/Native Alaskan': 674625,\n",
       " 'White': 197318956}"
      ]
     },
     "execution_count": 46,
     "metadata": {},
     "output_type": "execute_result"
    }
   ],
   "source": [
    "## 7: Finding rates of gun violence per 10,000 people by race\n",
    "# create dictionary mapping\n",
    "mapping = {\n",
    "    \"Asian/Pacific Islander\": int(asian),\n",
    "    \"Black\": int(census[1][12]),\n",
    "    \"Native American/Native Alaskan\": int(census[1][15]),\n",
    "    \"Hispanic\": int(census[1][11]),\n",
    "    \"White\": int(census[1][10]) \n",
    "}\n",
    "mapping\n",
    "\n",
    "\n"
   ]
  },
  {
   "cell_type": "code",
   "execution_count": 50,
   "metadata": {
    "collapsed": false
   },
   "outputs": [
    {
     "data": {
      "text/plain": [
       "{'Asian/Pacific Islander': 0.7016236078247858,\n",
       " 'Black': 5.78773477735196,\n",
       " 'Hispanic': 2.022049121091091,\n",
       " 'Native American/Native Alaskan': 13.592736705577172,\n",
       " 'White': 3.356849303419181}"
      ]
     },
     "execution_count": 50,
     "metadata": {},
     "output_type": "execute_result"
    }
   ],
   "source": [
    "# create race_per_hundredk dictionary\n",
    "race_per_hundredk = {}\n",
    "\n",
    "for  value in race_counts:\n",
    "    race_per_hundredk[value] = race_counts[value]/mapping[value] * 10000\n",
    "race_per_hundredk"
   ]
  },
  {
   "cell_type": "code",
   "execution_count": 88,
   "metadata": {
    "collapsed": false
   },
   "outputs": [],
   "source": [
    "## 8 Filtering by intent\n",
    "# extract intent using list comprehension\n",
    "intents = [row[3] for row in data]\n",
    "set(intents)\n",
    "\n",
    "# extract race using list compreension\n",
    "races = [row[7] for row in data]\n",
    "\n",
    "# create dictionary homicide_race_counts\n",
    "homicide_race_counts = {}\n",
    "\n"
   ]
  },
  {
   "cell_type": "code",
   "execution_count": 91,
   "metadata": {
    "collapsed": false
   },
   "outputs": [
    {
     "data": {
      "text/plain": [
       "{'Asian/Pacific Islander': 1118,\n",
       " 'Black': 39020,\n",
       " 'Hispanic': 11268,\n",
       " 'Native American/Native Alaskan': 652,\n",
       " 'White': 18294}"
      ]
     },
     "execution_count": 91,
     "metadata": {},
     "output_type": "execute_result"
    }
   ],
   "source": [
    "for i, race in enumerate(races):\n",
    "    if intents[i] == \"Homicide\": # checks value of i in intents is homocide\n",
    "        if  race in homicide_race_counts:\n",
    "            homicide_race_counts[race] += 1\n",
    "        else:\n",
    "            homicide_race_counts[race] = 1\n",
    "homicide_race_counts"
   ]
  },
  {
   "cell_type": "markdown",
   "metadata": {
    "collapsed": false
   },
   "source": [
    "The race who falls victim to homocide the most in quantity is Black followed by White, Hispanic, Asian/Pacific Islander, then Native American/Native Alaskan.\n",
    "\n",
    "Now I would want to find the rates to see if homocide rates are disproportion"
   ]
  },
  {
   "cell_type": "code",
   "execution_count": null,
   "metadata": {
    "collapsed": true
   },
   "outputs": [],
   "source": []
  }
 ],
 "metadata": {
  "kernelspec": {
   "display_name": "Python 3",
   "language": "python",
   "name": "python3"
  },
  "language_info": {
   "codemirror_mode": {
    "name": "ipython",
    "version": 3
   },
   "file_extension": ".py",
   "mimetype": "text/x-python",
   "name": "python",
   "nbconvert_exporter": "python",
   "pygments_lexer": "ipython3",
   "version": "3.4.3"
  }
 },
 "nbformat": 4,
 "nbformat_minor": 0
}
