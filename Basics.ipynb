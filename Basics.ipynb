{
 "cells": [
  {
   "cell_type": "code",
   "execution_count": 2,
   "metadata": {
    "collapsed": false
   },
   "outputs": [
    {
     "data": {
      "text/plain": [
       "['year,month,date_of_month,day_of_week,births',\n",
       " '1994,1,1,6,8096',\n",
       " '1994,1,2,7,7772',\n",
       " '1994,1,3,1,10142',\n",
       " '1994,1,4,2,11248',\n",
       " '1994,1,5,3,11053',\n",
       " '1994,1,6,4,11406',\n",
       " '1994,1,7,5,11251',\n",
       " '1994,1,8,6,8653',\n",
       " '1994,1,9,7,7910']"
      ]
     },
     "execution_count": 2,
     "metadata": {},
     "output_type": "execute_result"
    }
   ],
   "source": [
    "text = open(\"US_births_1994-2003_CDC_NCHS.csv\",'r')\n",
    "data = text.read()\n",
    "data = data.split(\"\\n\")\n",
    "data[0:10]\n"
   ]
  },
  {
   "cell_type": "code",
   "execution_count": 3,
   "metadata": {
    "collapsed": false
   },
   "outputs": [],
   "source": [
    "def read_csv(input):\n",
    "    text = open(input,\"r\")\n",
    "    data = text.read()\n",
    "    data = data.split(\"\\n\")\n",
    "    string_list = data[1:len(data)]\n",
    "    \n",
    "    final_list = []\n",
    "    for item in string_list:\n",
    "        int_fields = []\n",
    "        string_fields = item.split(\",\")\n",
    "        for value in string_fields:\n",
    "            int_fields.append(int(value))\n",
    "        int_fields.append(string_fields)\n",
    "        final_list.append(int_fields)\n",
    "    return final_list\n",
    "#    return final_list\n",
    "    "
   ]
  },
  {
   "cell_type": "code",
   "execution_count": 4,
   "metadata": {
    "collapsed": false
   },
   "outputs": [
    {
     "name": "stdout",
     "output_type": "stream",
     "text": [
      "[[1994, 1, 1, 6, 8096, ['1994', '1', '1', '6', '8096']], [1994, 1, 2, 7, 7772, ['1994', '1', '2', '7', '7772']], [1994, 1, 3, 1, 10142, ['1994', '1', '3', '1', '10142']], [1994, 1, 4, 2, 11248, ['1994', '1', '4', '2', '11248']], [1994, 1, 5, 3, 11053, ['1994', '1', '5', '3', '11053']], [1994, 1, 6, 4, 11406, ['1994', '1', '6', '4', '11406']], [1994, 1, 7, 5, 11251, ['1994', '1', '7', '5', '11251']], [1994, 1, 8, 6, 8653, ['1994', '1', '8', '6', '8653']], [1994, 1, 9, 7, 7910, ['1994', '1', '9', '7', '7910']], [1994, 1, 10, 1, 10498, ['1994', '1', '10', '1', '10498']]]\n"
     ]
    }
   ],
   "source": [
    "cdc_list = read_csv(\"US_births_1994-2003_CDC_NCHS.csv\")\n",
    "print(cdc_list[0:10])"
   ]
  },
  {
   "cell_type": "code",
   "execution_count": 5,
   "metadata": {
    "collapsed": false
   },
   "outputs": [
    {
     "name": "stdout",
     "output_type": "stream",
     "text": [
      "{1: 3232517, 2: 3018140, 3: 3322069, 4: 3185314, 5: 3350907, 6: 3296530, 7: 3498783, 8: 3525858, 9: 3439698, 10: 3378814, 11: 3171647, 12: 3301860}\n"
     ]
    }
   ],
   "source": [
    "def month_births(list_of_lists):\n",
    "    births_per_month = {}\n",
    "    for list in list_of_lists:\n",
    "        # month is [1]\n",
    "        # births is [4]\n",
    "        if list[1] in births_per_month:\n",
    "            births_per_month[list[1]] = births_per_month[list[1]] + list[4]\n",
    "        else:\n",
    "            births_per_month[list[1]] = list[4]\n",
    "    return births_per_month\n",
    "\n",
    "cdc_month_births = month_births(cdc_list)\n",
    "print(cdc_month_births)"
   ]
  },
  {
   "cell_type": "code",
   "execution_count": 6,
   "metadata": {
    "collapsed": false
   },
   "outputs": [
    {
     "data": {
      "text/plain": [
       "{1: 5789166,\n",
       " 2: 6446196,\n",
       " 3: 6322855,\n",
       " 4: 6288429,\n",
       " 5: 6233657,\n",
       " 6: 4562111,\n",
       " 7: 4079723}"
      ]
     },
     "execution_count": 6,
     "metadata": {},
     "output_type": "execute_result"
    }
   ],
   "source": [
    "def dow_births(list_of_lists):\n",
    "    # day of week [3]\n",
    "    births_per_day = {}\n",
    "    for list in list_of_lists:\n",
    "        if list[3] in births_per_day:\n",
    "            births_per_day[list[3]] = births_per_day[list[3]] + list[4]\n",
    "        else:\n",
    "            births_per_day[list[3]] = list[4]\n",
    "    return births_per_day\n",
    "\n",
    "cdc_day_births = dow_births(cdc_list)\n",
    "cdc_day_births"
   ]
  },
  {
   "cell_type": "code",
   "execution_count": 7,
   "metadata": {
    "collapsed": true
   },
   "outputs": [],
   "source": [
    "def calc_counts(list_of_lists, column):\n",
    "    value_per_metric = {}\n",
    "    for list in list_of_lists:\n",
    "        if list[column] in value_per_metric:\n",
    "            value_per_metric[list[column]] = value_per_metric[list[column]] + list[4]\n",
    "        else:\n",
    "            value_per_metric[list[column]] = list[4]\n",
    "    return value_per_metric"
   ]
  },
  {
   "cell_type": "code",
   "execution_count": 8,
   "metadata": {
    "collapsed": false
   },
   "outputs": [
    {
     "data": {
      "text/plain": [
       "{1: 5789166,\n",
       " 2: 6446196,\n",
       " 3: 6322855,\n",
       " 4: 6288429,\n",
       " 5: 6233657,\n",
       " 6: 4562111,\n",
       " 7: 4079723}"
      ]
     },
     "execution_count": 8,
     "metadata": {},
     "output_type": "execute_result"
    }
   ],
   "source": [
    "cdc_year_births = calc_counts(cdc_list, column = 0)\n",
    "cdc_month_births = calc_counts(cdc_list, column = 1)\n",
    "cdc_dom_births = calc_counts(cdc_list, column = 2)\n",
    "cdc_dow_births = calc_counts(cdc_list, column = 3)\n",
    "\n",
    "cdc_year_births\n",
    "cdc_month_births\n",
    "cdc_dom_births\n",
    "cdc_dow_births"
   ]
  },
  {
   "cell_type": "code",
   "execution_count": 18,
   "metadata": {
    "collapsed": false
   },
   "outputs": [
    {
     "data": {
      "text/plain": [
       "[3880894, 4089950]"
      ]
     },
     "execution_count": 18,
     "metadata": {},
     "output_type": "execute_result"
    }
   ],
   "source": [
    "# calculate the min and max values for any dictionary thats passed in\n",
    "def minmax_vals(dictionary):\n",
    "    min = 100000000\n",
    "    max = 0\n",
    "    for item in dictionary:\n",
    "        if dictionary[item] < min:\n",
    "            min = dictionary[item]\n",
    "        if dictionary[item] > max:\n",
    "            max = dictionary[item]\n",
    "    return [min, max]\n",
    "\n",
    "        "
   ]
  },
  {
   "cell_type": "code",
   "execution_count": 44,
   "metadata": {
    "collapsed": false
   },
   "outputs": [
    {
     "ename": "KeyError",
     "evalue": "1993",
     "output_type": "error",
     "traceback": [
      "\u001b[1;31m\u001b[0m",
      "\u001b[1;31mKeyError\u001b[0mTraceback (most recent call last)",
      "\u001b[1;32m<ipython-input-44-bf8901aa1871>\u001b[0m in \u001b[0;36m<module>\u001b[1;34m()\u001b[0m\n\u001b[0;32m     14\u001b[0m     \u001b[1;32mreturn\u001b[0m \u001b[0mdiferences\u001b[0m\u001b[1;33m\u001b[0m\u001b[0m\n\u001b[0;32m     15\u001b[0m \u001b[1;33m\u001b[0m\u001b[0m\n\u001b[1;32m---> 16\u001b[1;33m \u001b[0mbirth_diff\u001b[0m\u001b[1;33m(\u001b[0m\u001b[0mcdc_list\u001b[0m\u001b[1;33m,\u001b[0m \u001b[0mcolumn\u001b[0m \u001b[1;33m=\u001b[0m \u001b[1;36m0\u001b[0m\u001b[1;33m)\u001b[0m\u001b[1;33m\u001b[0m\u001b[0m\n\u001b[0m\u001b[0;32m     17\u001b[0m \u001b[1;33m\u001b[0m\u001b[0m\n\u001b[0;32m     18\u001b[0m \u001b[1;33m\u001b[0m\u001b[0m\n",
      "\u001b[1;32m<ipython-input-44-bf8901aa1871>\u001b[0m in \u001b[0;36mbirth_diff\u001b[1;34m(cdc_list, column)\u001b[0m\n\u001b[0;32m      9\u001b[0m             \u001b[0mdifferences\u001b[0m\u001b[1;33m.\u001b[0m\u001b[0mappend\u001b[0m\u001b[1;33m(\u001b[0m\u001b[0mdiff\u001b[0m\u001b[1;33m)\u001b[0m\u001b[1;33m\u001b[0m\u001b[0m\n\u001b[0;32m     10\u001b[0m         \u001b[1;32melse\u001b[0m\u001b[1;33m:\u001b[0m\u001b[1;33m\u001b[0m\u001b[0m\n\u001b[1;32m---> 11\u001b[1;33m             \u001b[0mdiff\u001b[0m \u001b[1;33m=\u001b[0m \u001b[0mcdc_year_births\u001b[0m\u001b[1;33m[\u001b[0m\u001b[0mbirths\u001b[0m\u001b[1;33m]\u001b[0m \u001b[1;33m-\u001b[0m \u001b[0mcdc_year_births\u001b[0m\u001b[1;33m[\u001b[0m\u001b[0mbirths\u001b[0m\u001b[1;33m-\u001b[0m\u001b[1;36m1\u001b[0m\u001b[1;33m]\u001b[0m\u001b[1;33m\u001b[0m\u001b[0m\n\u001b[0m\u001b[0;32m     12\u001b[0m             \u001b[0mdifferences\u001b[0m\u001b[1;33m.\u001b[0m\u001b[0mappend\u001b[0m\u001b[1;33m(\u001b[0m\u001b[0mdiff\u001b[0m\u001b[1;33m)\u001b[0m\u001b[1;33m\u001b[0m\u001b[0m\n\u001b[0;32m     13\u001b[0m \u001b[1;33m\u001b[0m\u001b[0m\n",
      "\u001b[1;31mKeyError\u001b[0m: 1993"
     ]
    }
   ],
   "source": [
    "# function to show the difference between consecutive values\n",
    "def birth_diff(cdc_list, column = 0):\n",
    "    cdc_year_births = calc_counts(cdc_list, column)\n",
    "    \n",
    "    differences =[]\n",
    "    for births in cdc_year_births: \n",
    "        if births == 1993:\n",
    "            diff = 0\n",
    "            differences.append(diff)\n",
    "        else:\n",
    "            diff = cdc_year_births[births] - cdc_year_births[births-1] \n",
    "            differences.append(diff)\n",
    "    \n",
    "    return diferences\n",
    "\n",
    "birth_diff(cdc_list, column = 0)\n",
    "        \n",
    "\n"
   ]
  },
  {
   "cell_type": "code",
   "execution_count": 41,
   "metadata": {
    "collapsed": false
   },
   "outputs": [
    {
     "ename": "KeyError",
     "evalue": "1993",
     "output_type": "error",
     "traceback": [
      "\u001b[1;31m\u001b[0m",
      "\u001b[1;31mKeyError\u001b[0mTraceback (most recent call last)",
      "\u001b[1;32m<ipython-input-41-ba9e51f67c0a>\u001b[0m in \u001b[0;36m<module>\u001b[1;34m()\u001b[0m\n\u001b[1;32m----> 1\u001b[1;33m \u001b[0mcdc_year_births\u001b[0m\u001b[1;33m[\u001b[0m\u001b[1;36m1993\u001b[0m\u001b[1;33m]\u001b[0m\u001b[1;33m\u001b[0m\u001b[0m\n\u001b[0m",
      "\u001b[1;31mKeyError\u001b[0m: 1993"
     ]
    }
   ],
   "source": [
    "cdc_year_births[1993]"
   ]
  },
  {
   "cell_type": "code",
   "execution_count": 37,
   "metadata": {
    "collapsed": false
   },
   "outputs": [
    {
     "data": {
      "text/plain": [
       "{1994: 3952767,\n",
       " 1995: 3899589,\n",
       " 1996: 3891494,\n",
       " 1997: 3880894,\n",
       " 1998: 3941553,\n",
       " 1999: 3959417,\n",
       " 2000: 4058814,\n",
       " 2001: 4025933,\n",
       " 2002: 4021726,\n",
       " 2003: 4089950}"
      ]
     },
     "execution_count": 37,
     "metadata": {},
     "output_type": "execute_result"
    }
   ],
   "source": [
    "cdc_year_births"
   ]
  },
  {
   "cell_type": "code",
   "execution_count": null,
   "metadata": {
    "collapsed": true
   },
   "outputs": [],
   "source": []
  }
 ],
 "metadata": {
  "anaconda-cloud": {},
  "kernelspec": {
   "display_name": "Python 3",
   "language": "python",
   "name": "python3"
  },
  "language_info": {
   "codemirror_mode": {
    "name": "ipython",
    "version": 3
   },
   "file_extension": ".py",
   "mimetype": "text/x-python",
   "name": "python",
   "nbconvert_exporter": "python",
   "pygments_lexer": "ipython3",
   "version": "3.4.3"
  }
 },
 "nbformat": 4,
 "nbformat_minor": 1
}
